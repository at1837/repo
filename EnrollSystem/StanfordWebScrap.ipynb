{
 "cells": [
  {
   "cell_type": "code",
   "execution_count": 1,
   "id": "26f48786",
   "metadata": {},
   "outputs": [],
   "source": [
    "from bs4 import BeautifulSoup\n",
    "import requests"
   ]
  },
  {
   "cell_type": "code",
   "execution_count": 2,
   "id": "e88fa434",
   "metadata": {},
   "outputs": [],
   "source": [
    "def get_info(soup):\n",
    "    nameList = soup.find_all('span', class_='courseNumber')\n",
    "    k = [name.text.strip()[:-1] for name in nameList]\n",
    "\n",
    "    units = soup.find_all('div', class_='courseAttributes')\n",
    "    v = []\n",
    "    for unit in units:\n",
    "        if unit:\n",
    "            text = unit.find(string=lambda text: \"Units:\" in text)\n",
    "            if text:\n",
    "                s = text.split(\"Units:\")[1].strip()[:3]\n",
    "                v.append(s)\n",
    "    unit_map = {course: unit for course, unit in zip(k, v)}\n",
    "    return helper(unit_map, soup)\n",
    "\n",
    "def helper(unit_map, soup):\n",
    "    details = soup.find_all('li', class_='sectionDetails')\n",
    "    all_sections = []\n",
    "    for detail in details:\n",
    "        section = []\n",
    "        text = detail.get_text(strip=True)\n",
    "        name = text.split(\"|\")[0].strip()\n",
    "        section.append(name)\n",
    "        section.append(unit_map.get(name))\n",
    "        brTags = detail.find_all('br')\n",
    "        for brTag in brTags:\n",
    "            s = brTag.next_sibling.strip()\n",
    "            if (len(s) > 0 and 'Exam Date' not in s):\n",
    "                temp = section.copy()\n",
    "                temp.append(s)\n",
    "                all_sections.append(temp)\n",
    "    return all_sections\n",
    "\n",
    "def sub_page(soup):\n",
    "    div_tag = soup.find('div', id=\"pagination\")\n",
    "    a_tags = div_tag.find_all('a')\n",
    "    href_values = [a['href'] for a in a_tags][:-1]\n",
    "    return [url + h for h in href_values]\n",
    "\n",
    "def all_url(soup):\n",
    "    li_tags = soup.find_all('li')\n",
    "    result = []\n",
    "    for li in li_tags:\n",
    "        a_tags = li.find_all('a')\n",
    "        for a in a_tags:\n",
    "            result.append(url + a['href'])\n",
    "    return result"
   ]
  },
  {
   "cell_type": "code",
   "execution_count": 3,
   "id": "0f28b910",
   "metadata": {},
   "outputs": [],
   "source": [
    "url = 'https://explorecourses.stanford.edu/'\n",
    "headers = {'User-Agent': 'Mozilla/5.0 (Windows NT 10.0; Win64; x64) AppleWebKit/537.36 (KHTML, like Gecko) Chrome/58.0.3029.110 Safari/537.3'}\n",
    "soup = BeautifulSoup(requests.get(url, headers=headers).content, \"html.parser\")"
   ]
  },
  {
   "cell_type": "code",
   "execution_count": 4,
   "id": "ff977faa",
   "metadata": {},
   "outputs": [
    {
     "name": "stdout",
     "output_type": "stream",
     "text": [
      "============================\n",
      "Name: CS 12SI\n",
      "Units: 1\n",
      "Time: 04/01/2024 - 06/05/2024 Mon, Wed 4:30 PM - 5:20 PM at\n",
      "============================\n",
      "Name: CS 21SI\n",
      "Units: 2\n",
      "Time: 04/01/2024 - 06/05/2024 Wed 5:30 PM - 7:20 PM at\n",
      "============================\n",
      "Name: CS 52\n",
      "Units: 2\n",
      "Time: 04/01/2024 - 06/05/2024 Tue, Thu 4:30 PM - 5:50 PM at\n",
      "============================\n",
      "Name: CS 53N\n",
      "Units: 3\n",
      "Time: 04/01/2024 - 06/05/2024 Tue, Thu 10:30 AM - 11:50 AM at\n",
      "============================\n",
      "Name: CS 100ACE\n",
      "Units: 1\n",
      "Time: 09/26/2023 - 12/08/2023 Wed 3:30 PM - 5:20 PM at\n",
      "============================\n",
      "Name: CS 100ACE\n",
      "Units: 1\n",
      "Time: 01/08/2024 - 03/15/2024 Wed 3:30 PM - 5:20 PM at\n",
      "============================\n",
      "Name: CS 100ACE\n",
      "Units: 1\n",
      "Time: 04/01/2024 - 06/05/2024   -\n",
      "============================\n",
      "Name: CS 100BACE\n",
      "Units: 1\n",
      "Time: 09/26/2023 - 12/08/2023 Mon 4:30 PM - 6:20 PM at\n",
      "============================\n",
      "Name: CS 100BACE\n",
      "Units: 1\n",
      "Time: 01/08/2024 - 03/15/2024 Tue 1:30 PM - 3:20 PM at\n",
      "============================\n",
      "Name: CS 100BACE\n",
      "Units: 1\n",
      "Time: 04/01/2024 - 06/05/2024   -\n"
     ]
    }
   ],
   "source": [
    "# sample output for CS class\n",
    "# url_list contains all url from main page in all major\n",
    "url_list = all_url(soup)\n",
    "dep_url = url_list[32]\n",
    "result_list = []\n",
    "dep_soup = BeautifulSoup(requests.get(dep_url, headers=headers).content, \"html.parser\")\n",
    "result_list.extend(get_info(dep_soup))\n",
    "pages = sub_page(dep_soup)\n",
    "for page in pages:\n",
    "    sub_soup = BeautifulSoup(requests.get(page, headers=headers).content, \"html.parser\")\n",
    "    result_list.extend(get_info(sub_soup))\n",
    "\n",
    "for i in result_list[:10]:\n",
    "    print(\"============================\")\n",
    "    print('Name:', i[0])\n",
    "    print('Units:', i[1])\n",
    "    print('Time:', i[2])"
   ]
  },
  {
   "cell_type": "code",
   "execution_count": null,
   "id": "d447bd71",
   "metadata": {
    "scrolled": false
   },
   "outputs": [],
   "source": [
    "url_list = all_url(soup)\n",
    "for dep_url in url_list:\n",
    "    dep_url = url_list[3]\n",
    "    result_list = []\n",
    "    dep_soup = BeautifulSoup(requests.get(dep_url, headers=headers).content, \"html.parser\")\n",
    "    result_list.extend(get_info(dep_soup))\n",
    "    pages = sub_page(dep_soup)\n",
    "    for page in pages:\n",
    "        sub_soup = BeautifulSoup(requests.get(page, headers=headers).content, \"html.parser\")\n",
    "        result_list.extend(get_info(sub_soup))"
   ]
  },
  {
   "cell_type": "code",
   "execution_count": null,
   "id": "9cccdfb0",
   "metadata": {},
   "outputs": [],
   "source": []
  }
 ],
 "metadata": {
  "kernelspec": {
   "display_name": "Python 3 (ipykernel)",
   "language": "python",
   "name": "python3"
  },
  "language_info": {
   "codemirror_mode": {
    "name": "ipython",
    "version": 3
   },
   "file_extension": ".py",
   "mimetype": "text/x-python",
   "name": "python",
   "nbconvert_exporter": "python",
   "pygments_lexer": "ipython3",
   "version": "3.11.5"
  }
 },
 "nbformat": 4,
 "nbformat_minor": 5
}
